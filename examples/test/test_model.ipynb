{
 "cells": [
  {
   "cell_type": "markdown",
   "metadata": {},
   "source": [
    "#### Model Usage (With no pretrained weights)"
   ]
  },
  {
   "cell_type": "code",
   "execution_count": null,
   "metadata": {},
   "outputs": [],
   "source": [
    "import spikezoo as sz\n",
    "from spikezoo.models.base_model import BaseModel, BaseModelConfig\n",
    "\n",
    "# input data\n",
    "spike = sz.load_vidar_dat(\"../../data/data.dat\", width=400, height=250, out_format=\"tensor\")\n",
    "spike = spike[None].cuda()\n",
    "print(f\"Input spike shape: {spike.shape}\")\n",
    "# net\n",
    "net = BaseModel(BaseModelConfig(model_params={\"inDim\": 41}))\n",
    "net.build_network(mode = \"debug\")\n",
    "# process\n",
    "recon_img = net(spike)\n",
    "print(recon_img.shape,recon_img.max(),recon_img.min())\n"
   ]
  },
  {
   "cell_type": "markdown",
   "metadata": {},
   "source": [
    "#### Model Usage (With pretrained weights from local)"
   ]
  },
  {
   "cell_type": "code",
   "execution_count": null,
   "metadata": {},
   "outputs": [],
   "source": [
    "import spikezoo as sz\n",
    "from spikezoo.models.base_model import BaseModel, BaseModelConfig\n",
    "\n",
    "# input data\n",
    "spike = sz.load_vidar_dat(\"../../data/data.dat\", width=400, height=250, out_format=\"tensor\")\n",
    "spike = spike[None].cuda()\n",
    "print(f\"Input spike shape: {spike.shape}\")\n",
    "# net\n",
    "net = BaseModel(\n",
    "    BaseModelConfig(\n",
    "        ckpt_path=\"/home/chenkang455/chenk/myproject/SpikeCS/SpikeZoo_github/spikezoo/models/weights/v023/base.pth\",\n",
    "        model_params={\"inDim\": 41},\n",
    "    )\n",
    ")\n",
    "net.build_network(mode=\"eval\", version=\"local\")\n",
    "# process\n",
    "recon_img = net(spike)\n",
    "print(recon_img.shape,recon_img.max(),recon_img.min())\n"
   ]
  },
  {
   "cell_type": "markdown",
   "metadata": {},
   "source": [
    "#### Model Usage (With pretrained weights from released version v0.2.3)"
   ]
  },
  {
   "cell_type": "code",
   "execution_count": null,
   "metadata": {},
   "outputs": [],
   "source": [
    "import spikezoo as sz\n",
    "from spikezoo.models.base_model import BaseModel, BaseModelConfig\n",
    "\n",
    "# input data\n",
    "spike = sz.load_vidar_dat(\"../../data/data.dat\", width=400, height=250, out_format=\"tensor\")\n",
    "spike = spike[None].cuda()\n",
    "print(f\"Input spike shape: {spike.shape}\")\n",
    "# net\n",
    "net = BaseModel(\n",
    "    BaseModelConfig(\n",
    "        ckpt_path=\"/home/chenkang455/chenk/myproject/SpikeCS/SpikeZoo_github/spikezoo/models/weights/v023/base.pth\",\n",
    "        model_params={\"inDim\": 41},\n",
    "    )\n",
    ")\n",
    "net.build_network(mode=\"eval\", version=\"v023\")\n",
    "# process\n",
    "recon_img = net(spike)\n",
    "print(recon_img.shape,recon_img.max(),recon_img.min())\n"
   ]
  },
  {
   "cell_type": "markdown",
   "metadata": {},
   "source": [
    "#### For model training on your own framework"
   ]
  },
  {
   "cell_type": "code",
   "execution_count": 8,
   "metadata": {},
   "outputs": [
    {
     "name": "stdout",
     "output_type": "stream",
     "text": [
      "Input spike shape: torch.Size([1, 301, 250, 400])\n",
      "torch.Size([1, 1, 250, 400]) tensor(0.0967, device='cuda:0', grad_fn=<MaxBackward1>) tensor(0.0495, device='cuda:0', grad_fn=<MinBackward1>)\n",
      "True True\n"
     ]
    }
   ],
   "source": [
    "import spikezoo as sz\n",
    "from spikezoo.models.base_model import BaseModel, BaseModelConfig\n",
    "\n",
    "# input data\n",
    "spike = sz.load_vidar_dat(\"../../data/data.dat\", width=400, height=250, out_format=\"tensor\")\n",
    "spike = spike[None].cuda()\n",
    "print(f\"Input spike shape: {spike.shape}\")\n",
    "# net\n",
    "net = BaseModel(BaseModelConfig(model_params={\"inDim\": 41}))\n",
    "net.build_network(mode = \"train\")\n",
    "# process\n",
    "recon_img = net(spike)\n",
    "print(recon_img.shape,recon_img.max(),recon_img.min())\n",
    "print(net.training,net.net.training)\n"
   ]
  }
 ],
 "metadata": {
  "kernelspec": {
   "display_name": "spikezoo",
   "language": "python",
   "name": "python3"
  },
  "language_info": {
   "codemirror_mode": {
    "name": "ipython",
    "version": 3
   },
   "file_extension": ".py",
   "mimetype": "text/x-python",
   "name": "python",
   "nbconvert_exporter": "python",
   "pygments_lexer": "ipython3",
   "version": "3.7.16"
  }
 },
 "nbformat": 4,
 "nbformat_minor": 2
}
