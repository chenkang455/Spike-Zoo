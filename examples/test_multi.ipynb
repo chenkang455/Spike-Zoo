{
 "cells": [
  {
   "cell_type": "code",
   "execution_count": null,
   "metadata": {},
   "outputs": [],
   "source": [
    "from spikezoo.pipeline import EnsemblePipeline, EnsemblePipelineConfig\n",
    "pipeline = EnsemblePipeline(\n",
    "    cfg = EnsemblePipelineConfig(\n",
    "        save_folder=\"results\",\n",
    "        metric_names = [\"psnr\",\"ssim\",\"lpips\",\"niqe\",\"brisque\"],\n",
    "        save_img_norm = True\n",
    "    ),\n",
    "    model_cfg_list=['tfp','tfi', 'spk2imgnet', 'wgse', 'ssml', 'bsf', 'stir',  'spikeclip','spikeformer'],\n",
    "    dataset_cfg=\"base\",\n",
    ")"
   ]
  },
  {
   "cell_type": "markdown",
   "metadata": {},
   "source": [
    "### 1. spike-to-image from the given dataset (set in the dataset_cfg)\n"
   ]
  },
  {
   "cell_type": "code",
   "execution_count": null,
   "metadata": {},
   "outputs": [],
   "source": [
    "pipeline.spk2img_from_dataset(idx = 0)"
   ]
  },
  {
   "cell_type": "markdown",
   "metadata": {},
   "source": [
    "### 2. spike-to-image from the .dat file\n"
   ]
  },
  {
   "cell_type": "code",
   "execution_count": null,
   "metadata": {},
   "outputs": [],
   "source": [
    "# example-1\n",
    "# without gt (for calculating psnr,ssim and lpips)\n",
    "pipeline.spk2img_from_file(file_path = '../data/data.dat',width = 400,height=250)\n",
    "\n",
    "# with gt (only niqe and brisque)\n",
    "pipeline.spk2img_from_file(file_path = '../data/data.dat',img_path= \"../data/data.png\", width = 400,height=250)"
   ]
  },
  {
   "cell_type": "code",
   "execution_count": null,
   "metadata": {},
   "outputs": [],
   "source": [
    "# example-2\n",
    "pipeline.spk2img_from_file(file_path = '../data/scissor.dat',width = 400,height=250)"
   ]
  },
  {
   "cell_type": "code",
   "execution_count": null,
   "metadata": {},
   "outputs": [],
   "source": [
    "# example-3\n",
    "# width and height are not required for the npz file.\n",
    "pipeline.spk2img_from_file(file_path = '../data/uhsr.npz')"
   ]
  },
  {
   "cell_type": "markdown",
   "metadata": {},
   "source": [
    "### 3. spike-to-image from the .dat\n"
   ]
  },
  {
   "cell_type": "code",
   "execution_count": null,
   "metadata": {},
   "outputs": [],
   "source": [
    "# example-1\n",
    "import spikezoo as sz\n",
    "import cv2\n",
    "spike = sz.load_vidar_dat(\"../data/data.dat\",width=400,height=250,version='cpp')\n",
    "img = cv2.imread(\"../data/data.png\")\n",
    "# without gt (for calculating psnr,ssim and lpips)\n",
    "pipeline.spk2img_from_spk(spike)\n",
    "\n",
    "# with gt (only niqe and brisque)\n",
    "pipeline.spk2img_from_spk(spike,img)"
   ]
  },
  {
   "cell_type": "code",
   "execution_count": null,
   "metadata": {},
   "outputs": [],
   "source": [
    "# example-2\n",
    "import spikezoo as sz\n",
    "import cv2\n",
    "spike = sz.load_vidar_dat(\"../data/scissor.dat\",width=400,height=250,version='cpp')\n",
    "pipeline.spk2img_from_spk(spike)"
   ]
  },
  {
   "cell_type": "markdown",
   "metadata": {},
   "source": [
    "### 4. save all images of the dataset"
   ]
  },
  {
   "cell_type": "code",
   "execution_count": null,
   "metadata": {},
   "outputs": [],
   "source": [
    "pipeline.save_imgs_from_dataset()"
   ]
  },
  {
   "cell_type": "markdown",
   "metadata": {},
   "source": [
    "### 5. Calculate the metrics of the whole dataset"
   ]
  },
  {
   "cell_type": "code",
   "execution_count": null,
   "metadata": {},
   "outputs": [],
   "source": [
    "pipeline.cal_metrics()"
   ]
  },
  {
   "cell_type": "markdown",
   "metadata": {},
   "source": [
    "### 6. Calculate the parameters (params,flops,latency) for specified methods"
   ]
  },
  {
   "cell_type": "code",
   "execution_count": null,
   "metadata": {},
   "outputs": [
    {
     "ename": "",
     "evalue": "",
     "output_type": "error",
     "traceback": [
      "\u001b[1;31mThe Kernel crashed while executing code in the current cell or a previous cell. \n",
      "\u001b[1;31mPlease review the code in the cell(s) to identify a possible cause of the failure. \n",
      "\u001b[1;31mClick <a href='https://aka.ms/vscodeJupyterKernelCrash'>here</a> for more info. \n",
      "\u001b[1;31mView Jupyter <a href='command:jupyter.viewOutput'>log</a> for further details."
     ]
    }
   ],
   "source": [
    "pipeline.cal_params()"
   ]
  }
 ],
 "metadata": {
  "kernelspec": {
   "display_name": "spikezoo",
   "language": "python",
   "name": "python3"
  },
  "language_info": {
   "codemirror_mode": {
    "name": "ipython",
    "version": 3
   },
   "file_extension": ".py",
   "mimetype": "text/x-python",
   "name": "python",
   "nbconvert_exporter": "python",
   "pygments_lexer": "ipython3",
   "version": "3.9.21"
  }
 },
 "nbformat": 4,
 "nbformat_minor": 2
}
